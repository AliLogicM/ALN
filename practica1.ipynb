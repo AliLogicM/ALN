{
 "cells": [
  {
   "cell_type": "markdown",
   "id": "1665e195",
   "metadata": {},
   "source": [
    "# Utilizando la columna “opinión” del set de datos de opiniones:"
   ]
  },
  {
   "cell_type": "code",
   "execution_count": 6,
   "id": "5da2e3fb",
   "metadata": {},
   "outputs": [],
   "source": [
    "import pandas as pd\n",
    "# Cargar el archivo Excel\n",
    "file_path = 'Rest_Mex_2022_Sentiment_Analysis_Track_Train.xlsx'\n",
    "df = pd.read_excel(file_path)"
   ]
  },
  {
   "cell_type": "markdown",
   "id": "58d6ed45",
   "metadata": {},
   "source": [
    "- Normalizar el texto usando spacy"
   ]
  },
  {
   "cell_type": "code",
   "execution_count": 7,
   "id": "f8ab06be",
   "metadata": {},
   "outputs": [],
   "source": [
    "import spacy\n",
    "import unidecode\n",
    "\n",
    "# Cargar el modelo en español de spaCy\n",
    "nlp = spacy.load(\"es_core_news_sm\")\n",
    "\n",
    "# Función para normalizar el texto usando spaCy\n",
    "def normalize_text(text):\n",
    "    # Cast a str\n",
    "    text = str(text)\n",
    "    # Convertir a minúsculas\n",
    "    text = text.lower()\n",
    "    # Quitar acentos\n",
    "    text = unidecode.unidecode(text)\n",
    "    # Procesar el texto con spaCy\n",
    "    doc = nlp(text)\n",
    "    # Eliminar stop words y puntuación, y realizar lematización\n",
    "    text = ' '.join([token.lemma_ for token in doc if not token.is_stop and not token.is_punct])\n",
    "    return text"
   ]
  },
  {
   "cell_type": "markdown",
   "id": "fdfeef15",
   "metadata": {},
   "source": [
    "- Normalzar las opiniones paralelizado"
   ]
  },
  {
   "cell_type": "code",
   "execution_count": 8,
   "id": "73ae983e",
   "metadata": {},
   "outputs": [],
   "source": [
    "from concurrent.futures import ThreadPoolExecutor\n",
    "\n",
    "def parallel_processing_threads(data, func):\n",
    "    with ThreadPoolExecutor() as executor:\n",
    "        results = list(executor.map(func, data))\n",
    "    return results\n",
    "\n",
    "    # Normaliza el dataframe en paralelo\n",
    "df['Normalized_Opinion'] = parallel_processing_threads(df['Opinion'], normalize_text)"
   ]
  },
  {
   "cell_type": "markdown",
   "id": "ec90e97a",
   "metadata": {},
   "source": [
    "- Entrenar un modelo Doc2vec"
   ]
  },
  {
   "cell_type": "code",
   "execution_count": 18,
   "id": "f163a36f",
   "metadata": {},
   "outputs": [],
   "source": [
    "from gensim.models.doc2vec import Doc2Vec, TaggedDocument\n",
    "\n",
    "# Preparar los datos\n",
    "tokenized_opinions = [opinion.split() for opinion in df['Normalized_Opinion'].astype(str)]\n",
    "tagged_data = [TaggedDocument(words=words, tags=[str(attraction)]) for words, attraction in zip(tokenized_opinions, df['Attraction'].astype(str))] # Se puede hacer para polarity\n",
    "\n",
    "# Construir y entrenar el modelo\n",
    "model = Doc2Vec(vector_size=50, window=5, min_count=1, workers=4, epochs=20)\n",
    "model.build_vocab(tagged_data)\n",
    "model.train(tagged_data, total_examples=model.corpus_count, epochs=model.epochs)\n",
    "\n",
    "# Guardar el modelo para uso futuro\n",
    "model.save(\"doc2vec_model\")"
   ]
  },
  {
   "cell_type": "markdown",
   "id": "7ec80fd1",
   "metadata": {},
   "source": [
    "- Entrenar un algoritmo knn"
   ]
  },
  {
   "cell_type": "code",
   "execution_count": 23,
   "id": "575817bc",
   "metadata": {},
   "outputs": [
    {
     "data": {
      "text/html": [
       "<style>#sk-container-id-3 {color: black;}#sk-container-id-3 pre{padding: 0;}#sk-container-id-3 div.sk-toggleable {background-color: white;}#sk-container-id-3 label.sk-toggleable__label {cursor: pointer;display: block;width: 100%;margin-bottom: 0;padding: 0.3em;box-sizing: border-box;text-align: center;}#sk-container-id-3 label.sk-toggleable__label-arrow:before {content: \"▸\";float: left;margin-right: 0.25em;color: #696969;}#sk-container-id-3 label.sk-toggleable__label-arrow:hover:before {color: black;}#sk-container-id-3 div.sk-estimator:hover label.sk-toggleable__label-arrow:before {color: black;}#sk-container-id-3 div.sk-toggleable__content {max-height: 0;max-width: 0;overflow: hidden;text-align: left;background-color: #f0f8ff;}#sk-container-id-3 div.sk-toggleable__content pre {margin: 0.2em;color: black;border-radius: 0.25em;background-color: #f0f8ff;}#sk-container-id-3 input.sk-toggleable__control:checked~div.sk-toggleable__content {max-height: 200px;max-width: 100%;overflow: auto;}#sk-container-id-3 input.sk-toggleable__control:checked~label.sk-toggleable__label-arrow:before {content: \"▾\";}#sk-container-id-3 div.sk-estimator input.sk-toggleable__control:checked~label.sk-toggleable__label {background-color: #d4ebff;}#sk-container-id-3 div.sk-label input.sk-toggleable__control:checked~label.sk-toggleable__label {background-color: #d4ebff;}#sk-container-id-3 input.sk-hidden--visually {border: 0;clip: rect(1px 1px 1px 1px);clip: rect(1px, 1px, 1px, 1px);height: 1px;margin: -1px;overflow: hidden;padding: 0;position: absolute;width: 1px;}#sk-container-id-3 div.sk-estimator {font-family: monospace;background-color: #f0f8ff;border: 1px dotted black;border-radius: 0.25em;box-sizing: border-box;margin-bottom: 0.5em;}#sk-container-id-3 div.sk-estimator:hover {background-color: #d4ebff;}#sk-container-id-3 div.sk-parallel-item::after {content: \"\";width: 100%;border-bottom: 1px solid gray;flex-grow: 1;}#sk-container-id-3 div.sk-label:hover label.sk-toggleable__label {background-color: #d4ebff;}#sk-container-id-3 div.sk-serial::before {content: \"\";position: absolute;border-left: 1px solid gray;box-sizing: border-box;top: 0;bottom: 0;left: 50%;z-index: 0;}#sk-container-id-3 div.sk-serial {display: flex;flex-direction: column;align-items: center;background-color: white;padding-right: 0.2em;padding-left: 0.2em;position: relative;}#sk-container-id-3 div.sk-item {position: relative;z-index: 1;}#sk-container-id-3 div.sk-parallel {display: flex;align-items: stretch;justify-content: center;background-color: white;position: relative;}#sk-container-id-3 div.sk-item::before, #sk-container-id-3 div.sk-parallel-item::before {content: \"\";position: absolute;border-left: 1px solid gray;box-sizing: border-box;top: 0;bottom: 0;left: 50%;z-index: -1;}#sk-container-id-3 div.sk-parallel-item {display: flex;flex-direction: column;z-index: 1;position: relative;background-color: white;}#sk-container-id-3 div.sk-parallel-item:first-child::after {align-self: flex-end;width: 50%;}#sk-container-id-3 div.sk-parallel-item:last-child::after {align-self: flex-start;width: 50%;}#sk-container-id-3 div.sk-parallel-item:only-child::after {width: 0;}#sk-container-id-3 div.sk-dashed-wrapped {border: 1px dashed gray;margin: 0 0.4em 0.5em 0.4em;box-sizing: border-box;padding-bottom: 0.4em;background-color: white;}#sk-container-id-3 div.sk-label label {font-family: monospace;font-weight: bold;display: inline-block;line-height: 1.2em;}#sk-container-id-3 div.sk-label-container {text-align: center;}#sk-container-id-3 div.sk-container {/* jupyter's `normalize.less` sets `[hidden] { display: none; }` but bootstrap.min.css set `[hidden] { display: none !important; }` so we also need the `!important` here to be able to override the default hidden behavior on the sphinx rendered scikit-learn.org. See: https://github.com/scikit-learn/scikit-learn/issues/21755 */display: inline-block !important;position: relative;}#sk-container-id-3 div.sk-text-repr-fallback {display: none;}</style><div id=\"sk-container-id-3\" class=\"sk-top-container\"><div class=\"sk-text-repr-fallback\"><pre>KNeighborsClassifier(n_neighbors=3)</pre><b>In a Jupyter environment, please rerun this cell to show the HTML representation or trust the notebook. <br />On GitHub, the HTML representation is unable to render, please try loading this page with nbviewer.org.</b></div><div class=\"sk-container\" hidden><div class=\"sk-item\"><div class=\"sk-estimator sk-toggleable\"><input class=\"sk-toggleable__control sk-hidden--visually\" id=\"sk-estimator-id-3\" type=\"checkbox\" checked><label for=\"sk-estimator-id-3\" class=\"sk-toggleable__label sk-toggleable__label-arrow\">KNeighborsClassifier</label><div class=\"sk-toggleable__content\"><pre>KNeighborsClassifier(n_neighbors=3)</pre></div></div></div></div></div>"
      ],
      "text/plain": [
       "KNeighborsClassifier(n_neighbors=3)"
      ]
     },
     "execution_count": 23,
     "metadata": {},
     "output_type": "execute_result"
    }
   ],
   "source": [
    "from sklearn.neighbors import KNeighborsClassifier\n",
    "from sklearn.model_selection import train_test_split\n",
    "from gensim.models import Doc2Vec\n",
    "import pandas as pd\n",
    "import numpy as np\n",
    "\n",
    "# Cargar el modelo Doc2Vec entrenado\n",
    "model = Doc2Vec.load(\"doc2vec_model\")\n",
    "\n",
    "# Preparar los datos para el entrenamiento\n",
    "df['Normalized_Opinion'] = df['Normalized_Opinion'].apply(lambda x: str(x) if pd.notnull(x) else '')\n",
    "feature_vectors = [model.infer_vector(opinion.split()) for opinion in df['Normalized_Opinion']]\n",
    "X = np.array(feature_vectors)\n",
    "y = df['Attraction'].values\n",
    "\n",
    "# Entrenar el clasificador k-NN\n",
    "X_train, X_test, y_train, y_test = train_test_split(X, y, test_size=0.2, random_state=42)\n",
    "knn = KNeighborsClassifier(n_neighbors=3)\n",
    "knn.fit(X_train, y_train)"
   ]
  },
  {
   "cell_type": "markdown",
   "id": "0216caa2",
   "metadata": {},
   "source": [
    "- Realizar pruebas con 50 opiniones"
   ]
  },
  {
   "cell_type": "code",
   "execution_count": 24,
   "id": "a68ebd2b",
   "metadata": {},
   "outputs": [],
   "source": [
    "# Realizar pruebas con 50 opiniones\n",
    "X_test_sample = X_test[:50]\n",
    "y_test_sample = y_test[:50]\n",
    "\n",
    "# Hacer predicciones\n",
    "y_pred = knn.predict(X_test_sample)"
   ]
  },
  {
   "cell_type": "markdown",
   "id": "b12733f9",
   "metadata": {},
   "source": [
    "- Obtener matriz de confusion y acc"
   ]
  },
  {
   "cell_type": "code",
   "execution_count": 25,
   "id": "98481e8e",
   "metadata": {},
   "outputs": [
    {
     "name": "stdout",
     "output_type": "stream",
     "text": [
      "Matriz de Confusión:\n",
      "[[ 4  0  1]\n",
      " [ 3 24  2]\n",
      " [ 0  3 13]]\n",
      "Accuracy: 0.82\n"
     ]
    }
   ],
   "source": [
    "from sklearn.metrics import confusion_matrix, accuracy_score\n",
    "\n",
    "# Generar la Matriz de Confusión y calcular Accuracy\n",
    "conf_matrix = confusion_matrix(y_test_sample, y_pred)\n",
    "accuracy = accuracy_score(y_test_sample, y_pred)\n",
    "\n",
    "print(\"Matriz de Confusión:\")\n",
    "print(conf_matrix)\n",
    "print(\"Accuracy:\", accuracy)"
   ]
  },
  {
   "cell_type": "markdown",
   "id": "948b9c56",
   "metadata": {},
   "source": [
    "- Matriz de confusion para el total del conjunto de prueba"
   ]
  },
  {
   "cell_type": "code",
   "execution_count": 26,
   "id": "22b91bc8",
   "metadata": {},
   "outputs": [
    {
     "name": "stdout",
     "output_type": "stream",
     "text": [
      "Matriz de Confusión:\n",
      "[[ 873   56   90]\n",
      " [ 239 2746  312]\n",
      " [ 298  347 1082]]\n",
      "Accuracy: 0.7779248717524408\n"
     ]
    }
   ],
   "source": [
    "# Realizar predicciones en el conjunto de prueba (80% entrenamiento, 20% prueba)\n",
    "y_pred = knn.predict(X_test)\n",
    "\n",
    "# Evaluar el modelo: generar la Matriz de Confusión y calcular el Accuracy\n",
    "conf_matrix = confusion_matrix(y_test, y_pred)\n",
    "accuracy = accuracy_score(y_test, y_pred)\n",
    "\n",
    "print(\"Matriz de Confusión:\")\n",
    "print(conf_matrix)\n",
    "print(\"Accuracy:\", accuracy)"
   ]
  }
 ],
 "metadata": {
  "kernelspec": {
   "display_name": "Python 3 (ipykernel)",
   "language": "python",
   "name": "python3"
  },
  "language_info": {
   "codemirror_mode": {
    "name": "ipython",
    "version": 3
   },
   "file_extension": ".py",
   "mimetype": "text/x-python",
   "name": "python",
   "nbconvert_exporter": "python",
   "pygments_lexer": "ipython3",
   "version": "3.11.4"
  }
 },
 "nbformat": 4,
 "nbformat_minor": 5
}
